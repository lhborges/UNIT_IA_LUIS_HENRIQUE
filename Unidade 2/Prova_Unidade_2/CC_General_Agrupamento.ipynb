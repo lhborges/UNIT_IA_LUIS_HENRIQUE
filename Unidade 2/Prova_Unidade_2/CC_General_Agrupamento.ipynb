{
  "nbformat": 4,
  "nbformat_minor": 0,
  "metadata": {
    "colab": {
      "name": "CC_General_Agrupamento.ipynb",
      "version": "0.3.2",
      "provenance": [],
      "collapsed_sections": []
    },
    "kernelspec": {
      "name": "python3",
      "display_name": "Python 3"
    }
  },
  "cells": [
    {
      "cell_type": "code",
      "metadata": {
        "id": "YYHlZljj_Vre",
        "colab_type": "code",
        "colab": {}
      },
      "source": [
        "import numpy as np # 1\n",
        "import pandas as pd # 2\n",
        "import matplotlib.pyplot as plt # 3\n",
        "from sklearn.cluster import KMeans # 4"
      ],
      "execution_count": 0,
      "outputs": []
    },
    {
      "cell_type": "markdown",
      "metadata": {
        "id": "VF_0QYA0LrGJ",
        "colab_type": "text"
      },
      "source": [
        "Primeiramente vamos importar o dataset\n",
        "\n",
        "Não foi utilizazo o dataset completo utilizei apenas 4 variaveis para fazer o agrupamento\n",
        "\n",
        "'ESPVIDA', 'AGREGA', 'IDHM', 'POP', 'NOME_AGREGA'\n",
        "\n"
      ]
    },
    {
      "cell_type": "code",
      "metadata": {
        "id": "G2HAqtJSLwLb",
        "colab_type": "code",
        "colab": {}
      },
      "source": [
        "headers = ['BALANCE', 'BALANCE_FREQUENCY', 'PURCHASES', 'ONEOFF_PURCHASES', 'CUST_ID']\n",
        "dataset = pd.read_excel(\"./data_General_CC.xlsx\", encoding = \"ISO-8859-1\", decimal=\",\", header=None, names=headers)"
      ],
      "execution_count": 0,
      "outputs": []
    },
    {
      "cell_type": "markdown",
      "metadata": {
        "id": "GaIEnvLWMIIQ",
        "colab_type": "text"
      },
      "source": [
        "Para realização do agrupamento de dados foi utilizado a biblioteca Kmeans.\n",
        "\n",
        "Antes de utiliza-la tratamos as variaveis de predição forçando-as a ser do tipo float para garantir a estruturação\n",
        "\n",
        "'BALANCE', 'BALANCE_FREQUENCY', 'PURCHASES', 'ONEOFF_PURCHASES'\n"
      ]
    },
    {
      "cell_type": "code",
      "metadata": {
        "id": "8HSzw_wrMITL",
        "colab_type": "code",
        "colab": {}
      },
      "source": [
        "for col in  dataset.columns[0:4]:\n",
        "    dataset[col] = dataset[col].astype(float)\n",
        "\n",
        "X = dataset.iloc[:, 0:4]\n",
        "y = dataset.iloc[:, 4]\n",
        "\n",
        "kmeans = KMeans(n_clusters=4, random_state=0).fit(X)\n",
        "X_clustered = kmeans.fit_predict(X)\n"
      ],
      "execution_count": 0,
      "outputs": []
    },
    {
      "cell_type": "markdown",
      "metadata": {
        "id": "hN3g8KQZNYiD",
        "colab_type": "text"
      },
      "source": [
        "Agora gerimos o resultudado esperando o retorno de uma tabela com resultado de 'ClusterNumber' ao qual seria o agrupamento que 'NOME_AGREGA' ou onde os dados daquela região provavelmente estariam inserido. \n",
        "\n",
        "Como resultado tivemos um agrupamento de 0 a 3 ou seja 4 agrupamentos distintos."
      ]
    },
    {
      "cell_type": "code",
      "metadata": {
        "id": "pnu5apquNd6f",
        "colab_type": "code",
        "colab": {}
      },
      "source": [
        "\n",
        "results = dataset[['CUST_ID']].copy()\n",
        "results['clusterNumber'] = X_clustered\n",
        "results\n"
      ],
      "execution_count": 0,
      "outputs": []
    },
    {
      "cell_type": "markdown",
      "metadata": {
        "id": "Q-GtlqPfxcvS",
        "colab_type": "text"
      },
      "source": [
        "Agora criaremos o gráfico"
      ]
    },
    {
      "cell_type": "code",
      "metadata": {
        "id": "p6Apq4h1xdvD",
        "colab_type": "code",
        "colab": {}
      },
      "source": [
        "\n",
        "scaler = StandardScaler()\n",
        "X = scaler.fit_transform(X)\n",
        "dbscan = DBSCAN(eps = 0.9, min_samples = 4)\n",
        "previsoes = dbscan.fit_predict(X)\n",
        "unicos, quantidade = np.unique(previsoes, return_counts = True)\n",
        "print(unicos)\n",
        "\n",
        "plt.scatter(X[previsoes == 0, 0], X[previsoes == 0, 1], s = 10, c = 'red', label = 'Cluster 1')\n",
        "plt.scatter(X[previsoes == 1, 0], X[previsoes == 1, 1], s = 10, c = 'blue', label = 'Cluster 2')\n",
        "plt.scatter(X[previsoes == 2, 0], X[previsoes == 2, 1], s = 10, c = 'green', label = 'Cluster 3')\n",
        "plt.scatter(X[previsoes == 3, 0], X[previsoes == 3, 1], s = 10, c = 'orange', label = 'Cluster 4')\n",
        "\n",
        "plt.xlabel('Qualidade')\n",
        "plt.ylabel('Paises')\n",
        "plt.legend()"
      ],
      "execution_count": 0,
      "outputs": []
    }
  ]
}