{
  "nbformat": 4,
  "nbformat_minor": 0,
  "metadata": {
    "colab": {
      "name": "Groceries_Store.ipynb",
      "version": "0.3.2",
      "provenance": []
    },
    "kernelspec": {
      "name": "python3",
      "display_name": "Python 3"
    }
  },
  "cells": [
    {
      "cell_type": "code",
      "metadata": {
        "id": "juQME-rz0n5Q",
        "colab_type": "code",
        "colab": {}
      },
      "source": [
        "!pip install apyori\n",
        "import numpy as np  \n",
        "import matplotlib.pyplot as plt  \n",
        "import pandas as pd  \n",
        "from apyori import apriori"
      ],
      "execution_count": 0,
      "outputs": []
    },
    {
      "cell_type": "markdown",
      "metadata": {
        "id": "0FrIahcB0mLn",
        "colab_type": "text"
      },
      "source": [
        "Primeiramente foi baixado as bibliotecas\n",
        "\n",
        "Logo depois dentro da variavel 'store_data' salvamos nossa data base que doi importado\n",
        "\n",
        "Para tratar essa base de dados é preciso criar uma lista para isso criamos uma variavel do tipo array chamada 'records' e salvamos uma lista contendo uma lista dos produtos comprados"
      ]
    },
    {
      "cell_type": "code",
      "metadata": {
        "id": "0QUgwrOUjn1z",
        "colab_type": "code",
        "colab": {
          "base_uri": "https://localhost:8080/",
          "height": 35
        },
        "outputId": "678311ab-c1bd-4942-c7b1-9af747060eb7"
      },
      "source": [
        "store_data = pd.read_excel('groceries.xlsx', sep='delimiter', header=None)\n",
        "store_data.head()\n",
        "\n",
        "records = []  \n",
        "for i in range(0, 9835):  \n",
        "    records.append([str(store_data.values[i,j]) for j in range(0,20)])\n",
        "    p = p+1"
      ],
      "execution_count": 55,
      "outputs": [
        {
          "output_type": "stream",
          "text": [
            "Requirement already satisfied: apyori in /usr/local/lib/python3.6/dist-packages (1.1.1)\n"
          ],
          "name": "stdout"
        }
      ]
    },
    {
      "cell_type": "markdown",
      "metadata": {
        "id": "0XQ2T8_Fwn6V",
        "colab_type": "text"
      },
      "source": [
        "Para fazer a associação utilizou a biblioteca Apriory, utilizando a lista feita 'records' ele gerol uma associação a partir dos 9835 resultados.\n",
        "\n",
        "Algumas configurações foi precisa ser inserida como o min_confidence, caso essa variavel seja alterada o tipo de alimento mais consumido pelo usuario será alterado, o que também pode alterar o resultado\n",
        "\n",
        "já o Lift é o peso que se tem em cima de outros produtos"
      ]
    },
    {
      "cell_type": "code",
      "metadata": {
        "id": "dzH2HBb1y5bY",
        "colab_type": "code",
        "colab": {
          "base_uri": "https://localhost:8080/",
          "height": 55
        },
        "outputId": "02514b74-82b5-4bef-acf1-5232b682d62c"
      },
      "source": [
        "association_rules = apriori(records, min_support=0.0045, min_confidence=0.5, min_lift=3, min_length=2)  \n",
        "association_results = list(association_rules)\n",
        "\n",
        "import itertools\n",
        "result = next(itertools.islice(association_results, 9000))\n",
        "result\n"
      ],
      "execution_count": 60,
      "outputs": [
        {
          "output_type": "execute_result",
          "data": {
            "text/plain": [
              "RelationRecord(items=frozenset({'chicken', 'other vegetables', 'yogurt'}), support=0.004880528723945094, ordered_statistics=[OrderedStatistic(items_base=frozenset({'chicken', 'yogurt'}), items_add=frozenset({'other vegetables'}), confidence=0.5853658536585367, lift=3.0252617817822953)])"
            ]
          },
          "metadata": {
            "tags": []
          },
          "execution_count": 60
        }
      ]
    },
    {
      "cell_type": "code",
      "metadata": {
        "id": "gYQZtPSSzaZ_",
        "colab_type": "code",
        "colab": {}
      },
      "source": [
        "Como resultado ele sugeriu root vegetables e beef."
      ],
      "execution_count": 0,
      "outputs": []
    }
  ]
}