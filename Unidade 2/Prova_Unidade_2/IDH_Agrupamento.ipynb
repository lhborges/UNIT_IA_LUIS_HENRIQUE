{
  "nbformat": 4,
  "nbformat_minor": 0,
  "metadata": {
    "colab": {
      "name": "IDH_Agrupamento.ipynb",
      "version": "0.3.2",
      "provenance": [],
      "collapsed_sections": []
    },
    "kernelspec": {
      "name": "python3",
      "display_name": "Python 3"
    }
  },
  "cells": [
    {
      "cell_type": "code",
      "metadata": {
        "id": "YYHlZljj_Vre",
        "colab_type": "code",
        "colab": {}
      },
      "source": [
        "import numpy as np # 1\n",
        "import pandas as pd # 2\n",
        "import matplotlib.pyplot as plt # 3\n",
        "from sklearn.cluster import KMeans # 4\n",
        "from sklearn.cluster import DBSCAN\n",
        "from sklearn.preprocessing import StandardScaler"
      ],
      "execution_count": 0,
      "outputs": []
    },
    {
      "cell_type": "markdown",
      "metadata": {
        "id": "VF_0QYA0LrGJ",
        "colab_type": "text"
      },
      "source": [
        "Primeiramente vamos importar o dataset\n",
        "\n",
        "Não foi utilizazo o dataset completo utilizei apenas 4 variaveis para fazer o agrupamento\n",
        "\n",
        "'ESPVIDA', 'AGREGA', 'IDHM', 'POP', 'NOME_AGREGA'\n",
        "\n"
      ]
    },
    {
      "cell_type": "code",
      "metadata": {
        "id": "G2HAqtJSLwLb",
        "colab_type": "code",
        "colab": {}
      },
      "source": [
        "headers = ['ESPVIDA', 'AGREGA', 'IDHM', 'POP', 'NOME_AGREGA']\n",
        "dataset = pd.read_excel(\"./data_IDH.xlsx\", encoding = \"ISO-8859-1\", decimal=\",\", header=None, names=headers)"
      ],
      "execution_count": 0,
      "outputs": []
    },
    {
      "cell_type": "markdown",
      "metadata": {
        "id": "GaIEnvLWMIIQ",
        "colab_type": "text"
      },
      "source": [
        "Para realização do agrupamento de dados foi utilizado a biblioteca Kmeans.\n",
        "\n",
        "Antes de utiliza-la tratamos as variaveis de predição forçando-as a ser do tipo float para garantir a estruturação\n",
        "\n",
        "abrimos a variavel kmeans para receber o objeto de sua biblioteca e definimos o numero de agrupamentos para 4\n",
        "\n",
        "'ESPVIDA', 'AGREGA', 'IDHM', 'POP'\n"
      ]
    },
    {
      "cell_type": "code",
      "metadata": {
        "id": "8HSzw_wrMITL",
        "colab_type": "code",
        "colab": {}
      },
      "source": [
        "for col in  dataset.columns[0:4]:\n",
        "    dataset[col] = dataset[col].astype(float)\n",
        "\n",
        "X = dataset.iloc[:, 0:4]\n",
        "y = dataset.iloc[:, 4]\n",
        "\n",
        "kmeans = KMeans(n_clusters=4, random_state=0).fit(X)\n",
        "X_clustered = kmeans.fit_predict(X)\n"
      ],
      "execution_count": 0,
      "outputs": []
    },
    {
      "cell_type": "markdown",
      "metadata": {
        "id": "hN3g8KQZNYiD",
        "colab_type": "text"
      },
      "source": [
        "Agora gerimos o resultudado esperando o retorno de uma tabela com resultado de 'ClusterNumber' ao qual seria o agrupamento que 'NOME_AGREGA' ou onde os dados daquela região provavelmente estariam inserido. \n",
        "\n",
        "Como resultado tivemos um agrupamento de 0 a 3 ou seja 4 agrupamentos distintos."
      ]
    },
    {
      "cell_type": "code",
      "metadata": {
        "id": "pnu5apquNd6f",
        "colab_type": "code",
        "colab": {}
      },
      "source": [
        "\n",
        "results = dataset[['NOME_AGREGA']].copy()\n",
        "results['clusterNumber'] = X_clustered\n",
        "results\n"
      ],
      "execution_count": 0,
      "outputs": []
    },
    {
      "cell_type": "markdown",
      "metadata": {
        "id": "XBLjI0jwxC0z",
        "colab_type": "text"
      },
      "source": [
        "Agora criaremos o gráfico"
      ]
    },
    {
      "cell_type": "code",
      "metadata": {
        "id": "M5CxS4HVxIYQ",
        "colab_type": "code",
        "colab": {}
      },
      "source": [
        ""
      ],
      "execution_count": 0,
      "outputs": []
    },
    {
      "cell_type": "code",
      "metadata": {
        "id": "6mGImFfAxItc",
        "colab_type": "code",
        "colab": {
          "base_uri": "https://localhost:8080/",
          "height": 244
        },
        "outputId": "c55f524d-c49c-4fbf-f669-5c9b75a09caf"
      },
      "source": [
        "\n",
        "scaler = StandardScaler()\n",
        "X = scaler.fit_transform(X)\n",
        "dbscan = DBSCAN(eps = 0.1, min_samples = 4)\n",
        "previsoes = dbscan.fit_predict(X)\n",
        "unicos, quantidade = np.unique(previsoes, return_counts = True)\n",
        "print(unicos)\n",
        "\n",
        "plt.scatter(X[previsoes == 0, 0], X[previsoes == 0, 1], s = 10, c = 'red', label = 'Cluster 1')\n",
        "plt.scatter(X[previsoes == 1, 0], X[previsoes == 1, 1], s = 10, c = 'blue', label = 'Cluster 2')\n",
        "plt.scatter(X[previsoes == 2, 0], X[previsoes == 2, 1], s = 10, c = 'green', label = 'Cluster 3')\n",
        "plt.scatter(X[previsoes == 3, 0], X[previsoes == 3, 1], s = 10, c = 'orange', label = 'Cluster 4')\n",
        "\n",
        "plt.xlabel('Qualidade')\n",
        "plt.ylabel('Paises')\n",
        "plt.legend()"
      ],
      "execution_count": 1,
      "outputs": [
        {
          "output_type": "error",
          "ename": "NameError",
          "evalue": "ignored",
          "traceback": [
            "\u001b[0;31m---------------------------------------------------------------------------\u001b[0m",
            "\u001b[0;31mNameError\u001b[0m                                 Traceback (most recent call last)",
            "\u001b[0;32m<ipython-input-1-d6b5d1752d48>\u001b[0m in \u001b[0;36m<module>\u001b[0;34m()\u001b[0m\n\u001b[1;32m      1\u001b[0m \u001b[0;34m\u001b[0m\u001b[0m\n\u001b[0;32m----> 2\u001b[0;31m \u001b[0mscaler\u001b[0m \u001b[0;34m=\u001b[0m \u001b[0mStandardScaler\u001b[0m\u001b[0;34m(\u001b[0m\u001b[0;34m)\u001b[0m\u001b[0;34m\u001b[0m\u001b[0;34m\u001b[0m\u001b[0m\n\u001b[0m\u001b[1;32m      3\u001b[0m \u001b[0mX\u001b[0m \u001b[0;34m=\u001b[0m \u001b[0mscaler\u001b[0m\u001b[0;34m.\u001b[0m\u001b[0mfit_transform\u001b[0m\u001b[0;34m(\u001b[0m\u001b[0mX\u001b[0m\u001b[0;34m)\u001b[0m\u001b[0;34m\u001b[0m\u001b[0;34m\u001b[0m\u001b[0m\n\u001b[1;32m      4\u001b[0m \u001b[0mdbscan\u001b[0m \u001b[0;34m=\u001b[0m \u001b[0mDBSCAN\u001b[0m\u001b[0;34m(\u001b[0m\u001b[0meps\u001b[0m \u001b[0;34m=\u001b[0m \u001b[0;36m0.9\u001b[0m\u001b[0;34m,\u001b[0m \u001b[0mmin_samples\u001b[0m \u001b[0;34m=\u001b[0m \u001b[0;36m4\u001b[0m\u001b[0;34m)\u001b[0m\u001b[0;34m\u001b[0m\u001b[0;34m\u001b[0m\u001b[0m\n\u001b[1;32m      5\u001b[0m \u001b[0mprevisoes\u001b[0m \u001b[0;34m=\u001b[0m \u001b[0mdbscan\u001b[0m\u001b[0;34m.\u001b[0m\u001b[0mfit_predict\u001b[0m\u001b[0;34m(\u001b[0m\u001b[0mX\u001b[0m\u001b[0;34m)\u001b[0m\u001b[0;34m\u001b[0m\u001b[0;34m\u001b[0m\u001b[0m\n",
            "\u001b[0;31mNameError\u001b[0m: name 'StandardScaler' is not defined"
          ]
        }
      ]
    }
  ]
}