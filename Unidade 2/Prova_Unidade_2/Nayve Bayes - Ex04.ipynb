{
  "nbformat": 4,
  "nbformat_minor": 0,
  "metadata": {
    "colab": {
      "name": "Untitled2.ipynb",
      "version": "0.3.2",
      "provenance": []
    },
    "kernelspec": {
      "name": "python3",
      "display_name": "Python 3"
    }
  },
  "cells": [
    {
      "cell_type": "code",
      "metadata": {
        "id": "wuAvdVUoxqdb",
        "colab_type": "code",
        "colab": {}
      },
      "source": [
        "#MEU NAIVE BAYES\n",
        "\n",
        "\n",
        "import pandas as pd\n",
        "from sklearn.model_selection import train_test_split \n",
        "from sklearn.naive_bayes import GaussianNB \n",
        "from sklearn.preprocessing import LabelEncoder\n",
        "from sklearn.metrics import confusion_matrix, accuracy_score"
      ],
      "execution_count": 0,
      "outputs": []
    },
    {
      "cell_type": "markdown",
      "metadata": {
        "id": "3MWRWjQKxtOo",
        "colab_type": "text"
      },
      "source": [
        "Primeiramente vamos pegar o arquivo de base de dados selecionar os previsores e os atributos classicadores preparando-os para analise alterando-os todos em numericos"
      ]
    },
    {
      "cell_type": "code",
      "metadata": {
        "id": "bpF4CJF9xt7X",
        "colab_type": "code",
        "colab": {}
      },
      "source": [
        "Arquivo = pd.read_csv('hepatitis_csv.csv') \n",
        "previsores = Arquivo.iloc[:,0:19].values \n",
        "classe = Arquivo.iloc[:,19].values \n",
        "\n",
        "labelencoder = LabelEncoder() \n",
        "previsores[:, 0] = labelencoder.fit_transform(previsores[:, 0])\n",
        "previsores[:, 1] = labelencoder.fit_transform(previsores[:, 1])\n",
        "previsores[:, 2] = labelencoder.fit_transform(previsores[:, 2])\n",
        "previsores[:, 3] = labelencoder.fit_transform(previsores[:, 3])\n",
        "previsores[:, 4] = labelencoder.fit_transform(previsores[:, 4])\n",
        "previsores[:, 5] = labelencoder.fit_transform(previsores[:, 5])\n",
        "previsores[:, 6] = labelencoder.fit_transform(previsores[:, 6])\n",
        "previsores[:, 7] = labelencoder.fit_transform(previsores[:, 7])\n",
        "previsores[:, 8] = labelencoder.fit_transform(previsores[:, 8])\n",
        "previsores[:, 9] = labelencoder.fit_transform(previsores[:, 9])\n",
        "previsores[:, 10] = labelencoder.fit_transform(previsores[:, 10])\n",
        "previsores[:, 11] = labelencoder.fit_transform(previsores[:, 11])\n",
        "previsores[:, 12] = labelencoder.fit_transform(previsores[:, 12])\n",
        "previsores[:, 13] = labelencoder.fit_transform(previsores[:, 13])\n",
        "previsores[:, 14] = labelencoder.fit_transform(previsores[:, 14])\n",
        "previsores[:, 15] = labelencoder.fit_transform(previsores[:, 15])\n",
        "previsores[:, 16] = labelencoder.fit_transform(previsores[:, 16])\n",
        "previsores[:, 17] = labelencoder.fit_transform(previsores[:, 17])\n",
        "previsores[:, 18] = labelencoder.fit_transform(previsores[:, 18])"
      ],
      "execution_count": 0,
      "outputs": []
    },
    {
      "cell_type": "markdown",
      "metadata": {
        "id": "i-1KCNEOxtw-",
        "colab_type": "text"
      },
      "source": [
        "O codigo a seguir divide a base em teste e treinamento fazendo-os ficar com 30%\n",
        "\n",
        "Apos isso utilizamos o a biblioteca do nayve para para criar um classificador, e utiliza os dados para classifica-los\n",
        "\n",
        "Após isso faz analise através das previsões e cria a matriz de confusão"
      ]
    },
    {
      "cell_type": "code",
      "metadata": {
        "id": "wXRDQ_zhx-R4",
        "colab_type": "code",
        "colab": {}
      },
      "source": [
        "\n",
        "\n",
        "\n",
        "X_treinamento, X_teste, y_treinamento, y_teste = train_test_split(previsores,\n",
        "                                                                  classe,\n",
        "                                                                  test_size = 0.3,\n",
        "                                                                  random_state = 0)\n",
        "naive_bayes = GaussianNB() \n",
        "naive_bayes.fit(X_treinamento, y_treinamento) \n",
        "\n",
        "previsoes = naive_bayes.predict(X_teste)\n",
        "print(previsoes)\n",
        "confusao = confusion_matrix(y_teste, previsoes) \n",
        "print(confusao)\n",
        "taxa_acerto = accuracy_score(y_teste, previsoes) \n",
        "print(taxa_acerto)\n",
        "taxa_erro = 1 - taxa_acerto\n",
        "print(taxa_erro)\n",
        "from yellowbrick.classifier import ConfusionMatrix \n",
        "v = ConfusionMatrix(GaussianNB()) \n",
        "v.fit(X_treinamento, y_treinamento) \n",
        "v.score(X_teste, y_teste)\n",
        "v.poof() "
      ],
      "execution_count": 0,
      "outputs": []
    }
  ]
}