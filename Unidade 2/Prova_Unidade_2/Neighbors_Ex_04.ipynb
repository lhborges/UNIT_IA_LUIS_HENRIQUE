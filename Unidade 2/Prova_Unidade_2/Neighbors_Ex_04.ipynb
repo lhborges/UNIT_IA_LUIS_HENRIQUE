{
  "nbformat": 4,
  "nbformat_minor": 0,
  "metadata": {
    "colab": {
      "name": "Neighbors - Ex 04.ipynb",
      "version": "0.3.2",
      "provenance": []
    },
    "kernelspec": {
      "name": "python3",
      "display_name": "Python 3"
    }
  },
  "cells": [
    {
      "cell_type": "code",
      "metadata": {
        "id": "MPnInkZEzNPQ",
        "colab_type": "code",
        "colab": {}
      },
      "source": [
        "#MEU VIZINHOS\n",
        "\n",
        "import pandas as pd"
      ],
      "execution_count": 0,
      "outputs": []
    },
    {
      "cell_type": "markdown",
      "metadata": {
        "id": "QSfyx_tDzRZL",
        "colab_type": "text"
      },
      "source": [
        "Primeiramente vamos pegar o arquivo de base de dados selecionar os previsores e os atributos classicadores preparando-os para analise alterando-os todos em numericos"
      ]
    },
    {
      "cell_type": "code",
      "metadata": {
        "id": "E1YrJtW4zRh6",
        "colab_type": "code",
        "colab": {}
      },
      "source": [
        "Arquivo = pd.read_csv('hepatitis_csv.csv') \n",
        "previsores = Arquivo.iloc[:,0:19].values \n",
        "classe = Arquivo.iloc[:,19].values\n",
        "\n",
        "labelencoder = LabelEncoder() \n",
        "previsores[:, 0] = labelencoder.fit_transform(previsores[:, 0])\n",
        "previsores[:, 1] = labelencoder.fit_transform(previsores[:, 1])\n",
        "previsores[:, 2] = labelencoder.fit_transform(previsores[:, 2])\n",
        "previsores[:, 3] = labelencoder.fit_transform(previsores[:, 3])\n",
        "previsores[:, 4] = labelencoder.fit_transform(previsores[:, 4])\n",
        "previsores[:, 5] = labelencoder.fit_transform(previsores[:, 5])\n",
        "previsores[:, 6] = labelencoder.fit_transform(previsores[:, 6])\n",
        "previsores[:, 7] = labelencoder.fit_transform(previsores[:, 7])\n",
        "previsores[:, 8] = labelencoder.fit_transform(previsores[:, 8])\n",
        "previsores[:, 9] = labelencoder.fit_transform(previsores[:, 9])\n",
        "previsores[:, 10] = labelencoder.fit_transform(previsores[:, 10])\n",
        "previsores[:, 11] = labelencoder.fit_transform(previsores[:, 11])\n",
        "previsores[:, 12] = labelencoder.fit_transform(previsores[:, 12])\n",
        "previsores[:, 13] = labelencoder.fit_transform(previsores[:, 13])\n",
        "previsores[:, 14] = labelencoder.fit_transform(previsores[:, 14])\n",
        "previsores[:, 15] = labelencoder.fit_transform(previsores[:, 15])\n",
        "previsores[:, 16] = labelencoder.fit_transform(previsores[:, 16])\n",
        "previsores[:, 17] = labelencoder.fit_transform(previsores[:, 17])\n",
        "previsores[:, 18] = labelencoder.fit_transform(previsores[:, 18])\n",
        "\n"
      ],
      "execution_count": 0,
      "outputs": []
    },
    {
      "cell_type": "markdown",
      "metadata": {
        "id": "TIsLCrATzZ5c",
        "colab_type": "text"
      },
      "source": [
        "Para podemos fazer a analise dos dados primeiramente fazemos uma normalização dos dados, ao normalizar criamos previsões e dai treinamos nossa basse de dados utilizando o metodo de neighborges, com metrica minkwski de 2 ou seja é a medida euclidiana padrão\n",
        "\n",
        "Após fazer isso geramos uma matriz de confusão para analise dos resultados"
      ]
    },
    {
      "cell_type": "code",
      "metadata": {
        "id": "Iyus3uOGzaCT",
        "colab_type": "code",
        "colab": {}
      },
      "source": [
        "from sklearn.preprocessing import StandardScaler\n",
        "scaler = StandardScaler()\n",
        "previsores = scaler.fit_transform(previsores)\n",
        "\n",
        "from sklearn.model_selection import train_test_split\n",
        "previsores_treinamento, previsores_teste, classe_treinamento, classe_teste = train_test_split(previsores, classe, test_size=0.25, random_state=0)\n",
        "\n",
        "from sklearn.neighbors import KNeighborsClassifier\n",
        "classificador = KNeighborsClassifier(n_neighbors=7, metric='minkowski', p = 2)\n",
        "classificador.fit(previsores_treinamento, classe_treinamento)\n",
        "previsoes = classificador.predict(previsores_teste)\n",
        "\n",
        "from sklearn.metrics import confusion_matrix, accuracy_score\n",
        "precisao = accuracy_score(classe_teste, previsoes)\n",
        "matriz = confusion_matrix(classe_teste, previsoes)\n",
        "\n",
        "import collections\n",
        "collections.Counter(classe_teste)\n",
        "\n",
        "\n",
        "print(previsoes)\n",
        "print(matriz)\n",
        "print(precisao)\n",
        "print(previsoes)\n",
        "\n",
        "from yellowbrick.classifier import ConfusionMatrix \n",
        "v = ConfusionMatrix(KNeighborsClassifier()) \n",
        "v.fit(X_treinamento, y_treinamento) \n",
        "v.score(X_teste, y_teste) \n",
        "v.poof() "
      ],
      "execution_count": 0,
      "outputs": []
    }
  ]
}